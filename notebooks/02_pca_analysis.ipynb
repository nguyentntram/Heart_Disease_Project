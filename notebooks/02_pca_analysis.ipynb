{
 "cells": [
  {
   "cell_type": "markdown",
   "id": "467dccbf",
   "metadata": {},
   "source": [
    "# 02 — PCA Analysis"
   ]
  },
  {
   "cell_type": "code",
   "execution_count": null,
   "id": "c7861e95",
   "metadata": {},
   "outputs": [],
   "source": [
    "from src.pipeline import build_preprocess_pipeline, attach_pca_to_pipeline\n",
    "import pandas as pd, matplotlib.pyplot as plt\n",
    "\n",
    "df = pd.read_csv('data/heart_disease.csv')\n",
    "X = df.drop(columns=['target'])\n",
    "pipe = attach_pca_to_pipeline(build_preprocess_pipeline(False), n_components=0.95)\n",
    "X_pca = pipe.fit_transform(X)\n",
    "print('PCA shape:', X_pca.shape)"
   ]
  }
 ],
 "metadata": {},
 "nbformat": 4,
 "nbformat_minor": 5
}

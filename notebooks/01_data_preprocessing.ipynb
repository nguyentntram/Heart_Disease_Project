{
 "cells": [
  {
   "cell_type": "markdown",
   "id": "b25f5791",
   "metadata": {},
   "source": [
    "# 01 — Data Preprocessing & EDA"
   ]
  },
  {
   "cell_type": "code",
   "execution_count": null,
   "id": "c6d2f66a",
   "metadata": {},
   "outputs": [],
   "source": [
    "text = '''This notebook loads the UCI Heart dataset, handles missing values, encodes categoricals, scales numerics, and explores EDA (hist, boxplots, correlations).'''"
   ]
  },
  {
   "cell_type": "code",
   "execution_count": null,
   "id": "c510cb35",
   "metadata": {},
   "outputs": [],
   "source": [
    "import pandas as pd, seaborn as sns, matplotlib.pyplot as plt\n",
    "from src.constants import TARGET_COL\n",
    "\n",
    "df = pd.read_csv('data/heart_disease.csv')\n",
    "df.head()"
   ]
  },
  {
   "cell_type": "markdown",
   "id": "197890c2",
   "metadata": {},
   "source": [
    "# TODO: EDA plots (hist, boxplot, correlation heatmap)"
   ]
  }
 ],
 "metadata": {},
 "nbformat": 4,
 "nbformat_minor": 5
}

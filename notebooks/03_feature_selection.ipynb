{
 "cells": [
  {
   "cell_type": "markdown",
   "id": "2a6b0760",
   "metadata": {},
   "source": [
    "# 03 — Feature Selection"
   ]
  },
  {
   "cell_type": "code",
   "execution_count": null,
   "id": "a5b85e73",
   "metadata": {},
   "outputs": [],
   "source": [
    "import pandas as pd\n",
    "from src.pipeline import build_preprocess_pipeline, split_X_y, infer_feature_names\n",
    "from src.feature_selection import chi2_ranking, rfe_ranking, rf_importance\n",
    "from sklearn.linear_model import LogisticRegression\n",
    "\n",
    "df = pd.read_csv('data/heart_disease.csv')\n",
    "X, y = split_X_y(df)\n",
    "pre = build_preprocess_pipeline(False)\n",
    "pre.fit(X,y)\n",
    "X_tr = pre.transform(X)\n",
    "feat_names, _ = infer_feature_names(pre, X)\n",
    "\n",
    "# Chi2 (needs non-negative)\n",
    "pre_mm = build_preprocess_pipeline(True)\n",
    "pre_mm.fit(X,y)\n",
    "X_mm = pre_mm.transform(X)\n",
    "chi2_df = chi2_ranking(X_mm, y.to_numpy(), feat_names)\n",
    "chi2_df.head()"
   ]
  }
 ],
 "metadata": {},
 "nbformat": 4,
 "nbformat_minor": 5
}

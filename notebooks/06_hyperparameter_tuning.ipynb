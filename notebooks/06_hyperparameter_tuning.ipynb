{
 "cells": [
  {
   "cell_type": "markdown",
   "id": "c74c7c9a",
   "metadata": {},
   "source": [
    "# 06 — Hyperparameter Tuning"
   ]
  },
  {
   "cell_type": "code",
   "execution_count": null,
   "id": "f1baad5c",
   "metadata": {},
   "outputs": [],
   "source": [
    "import pandas as pd\n",
    "from sklearn.model_selection import train_test_split\n",
    "from src.pipeline import build_preprocess_pipeline, split_X_y\n",
    "from src.supervised import get_models\n",
    "from src.tuning import tune_random_forest, tune_svm\n",
    "\n",
    "df = pd.read_csv('data/heart_disease.csv')\n",
    "X,y = split_X_y(df)\n",
    "pre = build_preprocess_pipeline(False)\n",
    "X_tr, X_te, y_tr, y_te = train_test_split(X,y, test_size=0.2, stratify=y, random_state=42)\n",
    "X_tr2 = pre.fit_transform(X_tr, y_tr)\n",
    "\n",
    "rf_grid = tune_random_forest(get_models()[\"rf\"], X_tr2, y_tr)\n",
    "svm_grid = tune_svm(get_models()[\"svm\"], X_tr2, y_tr)\n",
    "print('RF best:', rf_grid.best_params_, rf_grid.best_score_)\n",
    "print('SVM best:', svm_grid.best_params_, svm_grid.best_score_)"
   ]
  }
 ],
 "metadata": {},
 "nbformat": 4,
 "nbformat_minor": 5
}

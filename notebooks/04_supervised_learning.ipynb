{
 "cells": [
  {
   "cell_type": "markdown",
   "id": "00c039c8",
   "metadata": {},
   "source": [
    "# 04 — Supervised Learning"
   ]
  },
  {
   "cell_type": "code",
   "execution_count": null,
   "id": "300e5b36",
   "metadata": {},
   "outputs": [],
   "source": [
    "import pandas as pd\n",
    "from sklearn.model_selection import train_test_split\n",
    "from sklearn.metrics import classification_report, roc_auc_score\n",
    "from src.pipeline import build_preprocess_pipeline, split_X_y\n",
    "from src.supervised import get_models\n",
    "\n",
    "df = pd.read_csv('data/heart_disease.csv')\n",
    "X,y = split_X_y(df)\n",
    "X_tr, X_te, y_tr, y_te = train_test_split(X,y, test_size=0.2, stratify=y, random_state=42)\n",
    "pre = build_preprocess_pipeline(False)\n",
    "pre.fit(X_tr, y_tr)\n",
    "X_tr2 = pre.transform(X_tr)\n",
    "X_te2 = pre.transform(X_te)\n",
    "\n",
    "models = get_models(42)\n",
    "for name, clf in models.items():\n",
    "    clf.fit(X_tr2, y_tr)\n",
    "    proba = clf.predict_proba(X_te2)[:,1]\n",
    "    pred = (proba>=0.5).astype(int)\n",
    "    print(name, 'AUC=', roc_auc_score(y_te, proba))"
   ]
  }
 ],
 "metadata": {},
 "nbformat": 4,
 "nbformat_minor": 5
}

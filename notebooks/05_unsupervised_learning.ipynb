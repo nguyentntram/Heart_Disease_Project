{
 "cells": [
  {
   "cell_type": "markdown",
   "id": "7a8e0296",
   "metadata": {},
   "source": [
    "# 05 — Unsupervised Learning"
   ]
  },
  {
   "cell_type": "code",
   "execution_count": null,
   "id": "00885b07",
   "metadata": {},
   "outputs": [],
   "source": [
    "import pandas as pd\n",
    "from sklearn.model_selection import train_test_split\n",
    "from src.pipeline import build_preprocess_pipeline, split_X_y\n",
    "from src.unsupervised import kmeans_elbow, run_kmeans, run_agglomerative, compare_to_labels\n",
    "\n",
    "df = pd.read_csv('data/heart_disease.csv')\n",
    "X,y = split_X_y(df)\n",
    "pre = build_preprocess_pipeline(False)\n",
    "X_tr = pre.fit_transform(X,y)\n",
    "\n",
    "elbow = kmeans_elbow(X_tr, 2, 8)\n",
    "print(elbow['k'], elbow['inertia'])"
   ]
  }
 ],
 "metadata": {},
 "nbformat": 4,
 "nbformat_minor": 5
}
